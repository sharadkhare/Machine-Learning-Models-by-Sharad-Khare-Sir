{
 "cells": [
  {
   "cell_type": "code",
   "execution_count": null,
   "id": "26c1dc2f",
   "metadata": {},
   "outputs": [],
   "source": [
    "'''Problem Statement:\n",
    "\n",
    "You are given a dataset containing information about individuals, \n",
    "including their age, BMI (Body Mass Index), and blood pressure. \n",
    "Your task is to build a Gradient Boosting Machines (GBM) model to \n",
    "predict whether a person is diabetic (1) or not (0) based on the given \n",
    "features.'''\n"
   ]
  },
  {
   "cell_type": "code",
   "execution_count": 2,
   "id": "b4f9a037",
   "metadata": {},
   "outputs": [],
   "source": [
    "# step no 1\n",
    "import numpy as np\n",
    "import pandas as pd\n",
    "from sklearn.model_selection import train_test_split\n",
    "from sklearn.ensemble import GradientBoostingClassifier\n",
    "from sklearn.metrics import accuracy_score"
   ]
  },
  {
   "cell_type": "code",
   "execution_count": 8,
   "id": "9e111bbd",
   "metadata": {},
   "outputs": [
    {
     "name": "stdout",
     "output_type": "stream",
     "text": [
      "   age        bmi  blood_pressure  diabetic\n",
      "0   64  31.954029              82         1\n",
      "1   67  39.096884             107         0\n",
      "2   73  32.361387             163         0\n",
      "3   20  31.971295             169         0\n",
      "4   23  39.896590             103         0\n"
     ]
    }
   ],
   "source": [
    "# step no 2\n",
    "np.random.seed(0)\n",
    "n_samples = 100\n",
    "age = np.random.randint(20,80, n_samples)\n",
    "bmi = np.random.uniform(18.0, 40.0, n_samples)\n",
    "blood_pressure = np.random.randint(80, 180, n_samples)\n",
    "diabetic = np.random.randint(2,size=n_samples)\n",
    "data = pd.DataFrame({'age': age, 'bmi': bmi, 'blood_pressure': blood_pressure, 'diabetic': diabetic})\n",
    "print(data.head())"
   ]
  },
  {
   "cell_type": "code",
   "execution_count": 9,
   "id": "582ab339",
   "metadata": {},
   "outputs": [],
   "source": [
    "X = data.drop('diabetic', axis=1)\n",
    "y = data['diabetic']"
   ]
  },
  {
   "cell_type": "code",
   "execution_count": 10,
   "id": "37e47342",
   "metadata": {},
   "outputs": [],
   "source": [
    "# step no 3\n",
    "X_train, X_test, y_train,y_test = train_test_split(X,y, test_size=0.2, random_state=42)"
   ]
  },
  {
   "cell_type": "code",
   "execution_count": 13,
   "id": "10c5e444",
   "metadata": {},
   "outputs": [],
   "source": [
    "# step no 4\n",
    "gbm_model = GradientBoostingClassifier(random_state=42)\n",
    "gbm_model.fit(X_train,y_train)\n",
    "y_pred = gbm_model.predict(X_test)"
   ]
  },
  {
   "cell_type": "code",
   "execution_count": 15,
   "id": "b07f4ad2",
   "metadata": {},
   "outputs": [
    {
     "name": "stdout",
     "output_type": "stream",
     "text": [
      "Accuracy is:  0.55\n"
     ]
    }
   ],
   "source": [
    "# step no 5\n",
    "accuracy = accuracy_score(y_test, y_pred)\n",
    "print('Accuracy is: ', accuracy)"
   ]
  },
  {
   "cell_type": "code",
   "execution_count": null,
   "id": "b7c99177",
   "metadata": {},
   "outputs": [],
   "source": []
  },
  {
   "cell_type": "code",
   "execution_count": null,
   "id": "7feeed0d",
   "metadata": {},
   "outputs": [],
   "source": []
  },
  {
   "cell_type": "code",
   "execution_count": null,
   "id": "6bb4417c",
   "metadata": {},
   "outputs": [],
   "source": []
  },
  {
   "cell_type": "code",
   "execution_count": null,
   "id": "776d2a0d",
   "metadata": {},
   "outputs": [],
   "source": []
  },
  {
   "cell_type": "code",
   "execution_count": null,
   "id": "428a3bcc",
   "metadata": {},
   "outputs": [],
   "source": []
  }
 ],
 "metadata": {
  "celltoolbar": "Raw Cell Format",
  "kernelspec": {
   "display_name": "Python 3 (ipykernel)",
   "language": "python",
   "name": "python3"
  },
  "language_info": {
   "codemirror_mode": {
    "name": "ipython",
    "version": 3
   },
   "file_extension": ".py",
   "mimetype": "text/x-python",
   "name": "python",
   "nbconvert_exporter": "python",
   "pygments_lexer": "ipython3",
   "version": "3.9.13"
  }
 },
 "nbformat": 4,
 "nbformat_minor": 5
}

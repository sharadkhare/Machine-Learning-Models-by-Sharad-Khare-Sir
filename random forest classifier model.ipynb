{
 "cells": [
  {
   "cell_type": "code",
   "execution_count": 2,
   "id": "26c1dc2f",
   "metadata": {},
   "outputs": [],
   "source": [
    "# Random Forest\n",
    "# example that an email is spam or not - \n",
    "import numpy as np\n",
    "from sklearn.model_selection import train_test_split\n",
    "from sklearn.ensemble import RandomForestClassifier\n",
    "from sklearn.metrics import accuracy_score"
   ]
  },
  {
   "cell_type": "code",
   "execution_count": 3,
   "id": "b4f9a037",
   "metadata": {},
   "outputs": [],
   "source": [
    "# sample dataset \n",
    "# features : number of words, Presense of keywords(1 for yes,0 for no)\n",
    "X = np.array([[100, 1], [50, 0], [75, 1], [200, 1], [30, 0], [180, 1], [120, 0], [60,1], [90,0], [150, 1]])\n",
    "# labels: 1 for spam, 0 for not spam\n",
    "y= np.array([1,0,1,1,0,1,0,1,0,1])\n"
   ]
  },
  {
   "cell_type": "code",
   "execution_count": 4,
   "id": "9e111bbd",
   "metadata": {},
   "outputs": [],
   "source": [
    "# split the dataset into training and testing data\n",
    "X_train, X_test, y_train, y_test = train_test_split(X, y, test_size = 0.2, random_state = 42)"
   ]
  },
  {
   "cell_type": "code",
   "execution_count": 5,
   "id": "582ab339",
   "metadata": {},
   "outputs": [],
   "source": [
    "# create a Random forest classifier\n",
    "# n_estimator: this sets the number of decision trees in the random forest to 100\n",
    "rf_classifier = RandomForestClassifier(n_estimators=100, random_state=42)"
   ]
  },
  {
   "cell_type": "code",
   "execution_count": 6,
   "id": "37e47342",
   "metadata": {},
   "outputs": [
    {
     "data": {
      "text/plain": [
       "RandomForestClassifier(random_state=42)"
      ]
     },
     "execution_count": 6,
     "metadata": {},
     "output_type": "execute_result"
    }
   ],
   "source": [
    "# Train The model on the training data\n",
    "rf_classifier.fit(X_train,y_train)"
   ]
  },
  {
   "cell_type": "code",
   "execution_count": 8,
   "id": "10c5e444",
   "metadata": {},
   "outputs": [],
   "source": [
    "# making prediction\n",
    "y_pred = rf_classifier.predict(X_test)"
   ]
  },
  {
   "cell_type": "code",
   "execution_count": 9,
   "id": "b07f4ad2",
   "metadata": {},
   "outputs": [
    {
     "name": "stdout",
     "output_type": "stream",
     "text": [
      "Accuray:100.000000%\n"
     ]
    }
   ],
   "source": [
    "# Evaluate the model's accuracy (95% above)\n",
    "accuracy = accuracy_score(y_test,y_pred)\n",
    "print(f\"Accuray:{accuracy*100:2f}%\")"
   ]
  },
  {
   "cell_type": "code",
   "execution_count": null,
   "id": "b7c99177",
   "metadata": {},
   "outputs": [],
   "source": []
  },
  {
   "cell_type": "code",
   "execution_count": null,
   "id": "7feeed0d",
   "metadata": {},
   "outputs": [],
   "source": []
  },
  {
   "cell_type": "code",
   "execution_count": null,
   "id": "6bb4417c",
   "metadata": {},
   "outputs": [],
   "source": []
  },
  {
   "cell_type": "code",
   "execution_count": null,
   "id": "776d2a0d",
   "metadata": {},
   "outputs": [],
   "source": []
  },
  {
   "cell_type": "code",
   "execution_count": null,
   "id": "428a3bcc",
   "metadata": {},
   "outputs": [],
   "source": []
  }
 ],
 "metadata": {
  "celltoolbar": "Raw Cell Format",
  "kernelspec": {
   "display_name": "Python 3 (ipykernel)",
   "language": "python",
   "name": "python3"
  },
  "language_info": {
   "codemirror_mode": {
    "name": "ipython",
    "version": 3
   },
   "file_extension": ".py",
   "mimetype": "text/x-python",
   "name": "python",
   "nbconvert_exporter": "python",
   "pygments_lexer": "ipython3",
   "version": "3.9.13"
  }
 },
 "nbformat": 4,
 "nbformat_minor": 5
}
